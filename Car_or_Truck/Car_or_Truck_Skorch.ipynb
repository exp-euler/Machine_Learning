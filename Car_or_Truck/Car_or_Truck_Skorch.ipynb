{
 "cells": [
  {
   "cell_type": "code",
   "execution_count": 1,
   "id": "91412246",
   "metadata": {},
   "outputs": [],
   "source": [
    "import numpy as np\n",
    "import pandas as pd\n",
    "import torch\n",
    "import torch.optim as optim\n",
    "import torchvision\n",
    "from torchvision import datasets,transforms \n",
    "from torch.utils.data import Dataset, DataLoader,TensorDataset,random_split,SubsetRandomSampler\n",
    "from torchvision import datasets,transforms\n",
    "\n",
    "DEVICE = torch.device(\"cpu\")\n",
    "transform = torchvision.transforms.Compose([torchvision.transforms.ToTensor()])\n",
    "train_dataset = torchvision.datasets.ImageFolder('./input/train',transform=transform)\n",
    "test_dataset  = torchvision.datasets.ImageFolder('./input/valid',transform=transform)\n",
    "\n",
    "# Get the number of features\n",
    "input_shape=len(train_dataset)\n",
    "train_data, val_data = random_split(train_dataset, [input_shape-int(input_shape*0.2), int(input_shape*0.2)])\n",
    "\n",
    "y_train = np.array([y for x, y in iter(train_dataset)])\n",
    "y_test = np.array([y for x, y in iter(test_dataset)])"
   ]
  },
  {
   "cell_type": "code",
   "execution_count": 27,
   "id": "5153c088",
   "metadata": {},
   "outputs": [],
   "source": [
    "import torch.nn as nn\n",
    "from torch.nn import functional as F\n",
    "\n",
    "class ConvNet(nn.Module):\n",
    "    def __init__(self):\n",
    "        super(ConvNet, self).__init__()\n",
    "\n",
    "        self.conv1 = nn.Conv2d(in_channels=3, out_channels=16, kernel_size=5, stride=1, padding=2)\n",
    "\n",
    "        self.conv2 = nn.Conv2d(in_channels=16, out_channels=32, kernel_size=5, stride=1, padding=2)\n",
    "        \n",
    "        self.first_layer = nn.Linear(32768, 64)\n",
    "        \n",
    "        self.second_layer = nn.Linear(64, 10)\n",
    "\n",
    "    def forward(self, x):\n",
    "        \n",
    "        x = F.relu(F.max_pool2d(self.conv1(x),kernel_size = 2))\n",
    "        \n",
    "        x = F.relu(F.max_pool2d(self.conv2(x),kernel_size = 2))\n",
    "        \n",
    "        x = x.view(x.size(0),-1)\n",
    "        x = F.relu(self.first_layer(x))\n",
    "        \n",
    "        x = self.second_layer(x)\n",
    "        return x\n"
   ]
  },
  {
   "cell_type": "code",
   "execution_count": 28,
   "id": "019d0a44",
   "metadata": {},
   "outputs": [],
   "source": [
    "from skorch import NeuralNetClassifier\n",
    "\n",
    "torch.manual_seed(0)\n",
    "\n",
    "net = NeuralNetClassifier(\n",
    "    ConvNet,\n",
    "    max_epochs=10,\n",
    "    iterator_train__num_workers=4,\n",
    "    iterator_valid__num_workers=4,\n",
    "    lr=1e-3,\n",
    "    batch_size=64,\n",
    "    optimizer=optim.Adam,\n",
    "    criterion=nn.CrossEntropyLoss,\n",
    "    device=DEVICE\n",
    ")"
   ]
  },
  {
   "cell_type": "code",
   "execution_count": 29,
   "id": "99c60d8b",
   "metadata": {},
   "outputs": [
    {
     "name": "stdout",
     "output_type": "stream",
     "text": [
      "  epoch    train_loss    valid_acc    valid_loss      dur\n",
      "-------  ------------  -----------  ------------  -------\n",
      "      1       \u001b[36m13.9595\u001b[0m       \u001b[32m0.4209\u001b[0m        \u001b[35m1.4563\u001b[0m  58.0152\n",
      "      2        \u001b[36m1.2597\u001b[0m       0.4209        \u001b[35m1.3504\u001b[0m  45.0797\n",
      "      3        \u001b[36m1.1481\u001b[0m       0.4209        \u001b[35m0.7881\u001b[0m  36.1753\n",
      "      4        \u001b[36m0.8474\u001b[0m       0.4209        \u001b[35m0.7585\u001b[0m  35.7079\n",
      "      5        \u001b[36m0.8228\u001b[0m       0.4209        \u001b[35m0.7401\u001b[0m  34.7153\n",
      "      6        \u001b[36m0.8068\u001b[0m       0.4209        \u001b[35m0.7274\u001b[0m  34.8924\n",
      "      7        \u001b[36m0.7885\u001b[0m       \u001b[32m0.4268\u001b[0m        \u001b[35m0.7200\u001b[0m  36.0094\n",
      "      8        \u001b[36m0.7768\u001b[0m       \u001b[32m0.4502\u001b[0m        \u001b[35m0.7140\u001b[0m  35.5824\n",
      "      9        \u001b[36m0.7520\u001b[0m       0.4209        0.7615  36.5749\n",
      "     10        0.7917       \u001b[32m0.4521\u001b[0m        \u001b[35m0.7101\u001b[0m  45.3730\n"
     ]
    }
   ],
   "source": [
    "net.fit(train_dataset, y=y_train);"
   ]
  },
  {
   "cell_type": "code",
   "execution_count": 30,
   "id": "95e15a57",
   "metadata": {},
   "outputs": [
    {
     "data": {
      "image/png": "[encoded data removed]",
      "text/plain": [
       "<Figure size 720x576 with 1 Axes>"
      ]
     },
     "metadata": {
      "needs_background": "light"
     },
     "output_type": "display_data"
    }
   ],
   "source": [
    "import matplotlib.pyplot as plt\n",
    "\n",
    "val_loss=[]\n",
    "train_loss=[]\n",
    "for i in range(10):\n",
    "    val_loss.append(net.history[i]['valid_loss'])\n",
    "    train_loss.append(net.history[i]['train_loss'])\n",
    "    \n",
    "plt.figure(figsize=(10,8))\n",
    "plt.semilogy(train_loss, label='Train loss')\n",
    "plt.semilogy(val_loss, label='Validation loss')\n",
    "plt.xlabel('Epoch')\n",
    "plt.ylabel('Loss')\n",
    "plt.grid()\n",
    "plt.legend()\n",
    "plt.show() "
   ]
  },
  {
   "cell_type": "code",
   "execution_count": null,
   "id": "3aeb908e",
   "metadata": {},
   "outputs": [],
   "source": []
  }
 ],
 "metadata": {
  "kernelspec": {
   "display_name": "Python 3 (ipykernel)",
   "language": "python",
   "name": "python3"
  },
  "language_info": {
   "codemirror_mode": {
    "name": "ipython",
    "version": 3
   },
   "file_extension": ".py",
   "mimetype": "text/x-python",
   "name": "python",
   "nbconvert_exporter": "python",
   "pygments_lexer": "ipython3",
   "version": "3.8.10"
  }
 },
 "nbformat": 4,
 "nbformat_minor": 5
}
