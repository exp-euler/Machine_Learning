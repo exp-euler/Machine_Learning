{
 "cells": [
  {
   "cell_type": "markdown",
   "id": "d5ae6cbe",
   "metadata": {},
   "source": [
    "## Setup\n",
    "\n",
    "In the cell below we load the data in, transform it from pictures to tensors and normalize before using it to train our model."
   ]
  },
  {
   "cell_type": "code",
   "execution_count": 1,
   "id": "91412246",
   "metadata": {},
   "outputs": [],
   "source": [
    "import numpy as np\n",
    "import pandas as pd\n",
    "import torch\n",
    "import torchvision\n",
    "from torch.utils.data import random_split\n",
    "from torchvision import datasets,transforms\n",
    "\n",
    "DEVICE = torch.device(\"cpu\")\n",
    "transform = torchvision.transforms.Compose([torchvision.transforms.ToTensor(),\n",
    "                    transforms.Normalize([0.485, 0.456, 0.406], \n",
    "                                         [0.229, 0.224, 0.225])])\n",
    "train_dataset = torchvision.datasets.ImageFolder('./input/train',transform=transform)\n",
    "test_dataset  = torchvision.datasets.ImageFolder('./input/valid',transform=transform)\n",
    "\n",
    "# Get the number of features\n",
    "input_shape=len(train_dataset)\n",
    "train_data, val_data = random_split(train_dataset, [input_shape-int(input_shape*0.2), int(input_shape*0.2)])\n",
    "\n",
    "y_train = np.array([y for x, y in iter(train_dataset)])\n",
    "y_test = np.array([y for x, y in iter(test_dataset)])"
   ]
  },
  {
   "cell_type": "markdown",
   "id": "6090fd81",
   "metadata": {},
   "source": [
    "## Creating the model\n",
    "\n",
    "We create a `module` class that contains the details of our Convolution Neural Network model. Before having the data pass through the layers where the learning happens, we load a pre-trained model called `resnet18`. This is the convolutional part which determines which features to extract from the images in the dataset.\n",
    "\n",
    "Then, we define the classifier wrapper using `Skorch` and finally train the model. Currently, we are working on exploring which layers are best to include and which activation functions to use on them. Experimentation is being done in picking the best Loss Function for this binomial classification. In the future, a section for hyper-parameter tuning will be added as well."
   ]
  },
  {
   "cell_type": "code",
   "execution_count": 2,
   "id": "5153c088",
   "metadata": {},
   "outputs": [],
   "source": [
    "import torch.nn as nn\n",
    "from torch.nn import functional as F\n",
    "from torchvision import models\n",
    "\n",
    "class ConvNet(nn.Module):\n",
    "    def __init__(self):\n",
    "        super(ConvNet, self).__init__()\n",
    "        \n",
    "        model = models.resnet18(pretrained=True)\n",
    "        model.first_layer = nn.Linear(1000, 64)\n",
    "        model.second_layer = nn.Linear(64, 1)\n",
    "        self.model = model\n",
    "\n",
    "    def forward(self, x):\n",
    "        \n",
    "        X = self.model(x)\n",
    "        \n",
    "        return torch.sigmoid(X)\n"
   ]
  },
  {
   "cell_type": "code",
   "execution_count": 3,
   "id": "019d0a44",
   "metadata": {},
   "outputs": [],
   "source": [
    "from skorch import NeuralNetClassifier\n",
    "from torch import optim\n",
    "\n",
    "#torch.manual_seed(0)\n",
    "\n",
    "net = NeuralNetClassifier(\n",
    "    ConvNet,\n",
    "    max_epochs=10,\n",
    "    iterator_train__num_workers=2,\n",
    "    iterator_valid__num_workers=2,\n",
    "    lr=1e-3,\n",
    "    batch_size=64,\n",
    "    optimizer=optim.Adam,\n",
    "    criterion=nn.CrossEntropyLoss(),\n",
    "    device=DEVICE\n",
    ")"
   ]
  },
  {
   "cell_type": "code",
   "execution_count": 4,
   "id": "99c60d8b",
   "metadata": {
    "scrolled": true
   },
   "outputs": [
    {
     "name": "stdout",
     "output_type": "stream",
     "text": [
      "  epoch    train_loss    valid_acc    valid_loss       dur\n",
      "-------  ------------  -----------  ------------  --------\n",
      "      1        \u001b[36m6.2139\u001b[0m       \u001b[32m0.5586\u001b[0m        \u001b[35m5.9945\u001b[0m  219.6741\n",
      "      2        \u001b[36m5.9220\u001b[0m       0.4404        \u001b[35m5.9124\u001b[0m  200.4969\n",
      "      3        \u001b[36m5.9116\u001b[0m       \u001b[32m0.5664\u001b[0m        5.9133  205.5200\n",
      "      4        \u001b[36m5.9114\u001b[0m       0.4814        \u001b[35m5.9113\u001b[0m  194.5069\n",
      "      5        \u001b[36m5.9113\u001b[0m       0.5469        \u001b[35m5.9113\u001b[0m  213.5708\n",
      "      6        \u001b[36m5.9112\u001b[0m       0.5527        \u001b[35m5.9112\u001b[0m  219.2262\n",
      "      7        \u001b[36m5.9112\u001b[0m       0.5664        \u001b[35m5.9112\u001b[0m  197.7524\n",
      "      8        \u001b[36m5.9112\u001b[0m       0.5596        5.9112  210.9500\n",
      "      9        \u001b[36m5.9112\u001b[0m       0.5596        5.9113  217.0688\n",
      "     10        \u001b[36m5.9112\u001b[0m       0.5635        5.9113  207.2809\n"
     ]
    }
   ],
   "source": [
    "net.fit(train_dataset, y=y_train);"
   ]
  },
  {
   "cell_type": "markdown",
   "id": "ca3dd436",
   "metadata": {},
   "source": [
    "## Visualizing training steps\n",
    "\n",
    "Below we give some visuals of the training process."
   ]
  },
  {
   "cell_type": "code",
   "execution_count": 5,
   "id": "95e15a57",
   "metadata": {},
   "outputs": [
    {
     "data": {
      "image/png": "[encoded data removed]",
      "text/plain": [
       "<Figure size 720x576 with 1 Axes>"
      ]
     },
     "metadata": {
      "needs_background": "light"
     },
     "output_type": "display_data"
    }
   ],
   "source": [
    "import matplotlib.pyplot as plt\n",
    "\n",
    "val_loss=[]\n",
    "train_loss=[]\n",
    "for i in range(10):\n",
    "    val_loss.append(net.history[i]['valid_loss'])\n",
    "    train_loss.append(net.history[i]['train_loss'])\n",
    "    \n",
    "plt.figure(figsize=(10,8))\n",
    "plt.semilogy(train_loss, label='Train loss')\n",
    "plt.semilogy(val_loss, label='Validation loss')\n",
    "plt.xlabel('Epoch')\n",
    "plt.ylabel('Loss')\n",
    "plt.grid()\n",
    "plt.legend()\n",
    "plt.show() "
   ]
  },
  {
   "cell_type": "code",
   "execution_count": null,
   "id": "3aeb908e",
   "metadata": {},
   "outputs": [],
   "source": []
  }
 ],
 "metadata": {
  "kernelspec": {
   "display_name": "Python 3 (ipykernel)",
   "language": "python",
   "name": "python3"
  },
  "language_info": {
   "codemirror_mode": {
    "name": "ipython",
    "version": 3
   },
   "file_extension": ".py",
   "mimetype": "text/x-python",
   "name": "python",
   "nbconvert_exporter": "python",
   "pygments_lexer": "ipython3",
   "version": "3.8.10"
  }
 },
 "nbformat": 4,
 "nbformat_minor": 5
}
